{
 "cells": [
  {
   "cell_type": "code",
   "execution_count": null,
   "id": "beab8e95",
   "metadata": {},
   "outputs": [],
   "source": [
    "# Write a Python program to display the first and last colors from the following list. Go to the editor\n",
    "# color_list = [\"Red\",\"Green\",\"White\" ,\"Black\"]"
   ]
  },
  {
   "cell_type": "code",
   "execution_count": 4,
   "id": "32626f1f",
   "metadata": {},
   "outputs": [
    {
     "name": "stdout",
     "output_type": "stream",
     "text": [
      "4\n",
      "red\n",
      "black\n",
      "green\n",
      "yellow\n",
      "The first and last colors are : \n",
      "red\n",
      "yellow\n"
     ]
    }
   ],
   "source": [
    "color_list=[]\n",
    "x=int(input())\n",
    "for i in range(x):\n",
    "    n=input()\n",
    "    color_list.append(n)\n",
    "    \n",
    "\n",
    "print(\"The first and last colors are : \")\n",
    "print(color_list[0])\n",
    "print(color_list[-1])\n",
    "    "
   ]
  },
  {
   "cell_type": "code",
   "execution_count": null,
   "id": "7cb17ef3",
   "metadata": {},
   "outputs": [],
   "source": []
  }
 ],
 "metadata": {
  "kernelspec": {
   "display_name": "Python 3 (ipykernel)",
   "language": "python",
   "name": "python3"
  },
  "language_info": {
   "codemirror_mode": {
    "name": "ipython",
    "version": 3
   },
   "file_extension": ".py",
   "mimetype": "text/x-python",
   "name": "python",
   "nbconvert_exporter": "python",
   "pygments_lexer": "ipython3",
   "version": "3.9.6"
  }
 },
 "nbformat": 4,
 "nbformat_minor": 5
}
