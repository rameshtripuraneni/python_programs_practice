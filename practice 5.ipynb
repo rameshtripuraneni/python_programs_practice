{
 "cells": [
  {
   "cell_type": "code",
   "execution_count": null,
   "id": "13dde9ac",
   "metadata": {},
   "outputs": [],
   "source": [
    "# Write a Python program which accepts the user's first and last name and print them in reverse order with a space between them"
   ]
  },
  {
   "cell_type": "code",
   "execution_count": 3,
   "id": "ecbcbb65",
   "metadata": {},
   "outputs": [
    {
     "name": "stdout",
     "output_type": "stream",
     "text": [
      "ramesh\n",
      "tripuraneni\n",
      "hsemar\n",
      "inenarupirt\n"
     ]
    }
   ],
   "source": [
    "first=input()\n",
    "last=input()\n",
    "print(first[::-1])\n",
    "print(last[::-1])"
   ]
  },
  {
   "cell_type": "code",
   "execution_count": null,
   "id": "6706a3e1",
   "metadata": {},
   "outputs": [],
   "source": []
  }
 ],
 "metadata": {
  "kernelspec": {
   "display_name": "Python 3 (ipykernel)",
   "language": "python",
   "name": "python3"
  },
  "language_info": {
   "codemirror_mode": {
    "name": "ipython",
    "version": 3
   },
   "file_extension": ".py",
   "mimetype": "text/x-python",
   "name": "python",
   "nbconvert_exporter": "python",
   "pygments_lexer": "ipython3",
   "version": "3.9.6"
  }
 },
 "nbformat": 4,
 "nbformat_minor": 5
}
