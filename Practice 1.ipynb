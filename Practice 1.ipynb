{
 "cells": [
  {
   "cell_type": "code",
   "execution_count": 2,
   "id": "858a6721",
   "metadata": {},
   "outputs": [],
   "source": [
    "# Write a Python program to print the following string in a specific format (see the output). Go to the editor\n",
    "# Sample String : \"Twinkle, twinkle, little star, How I wonder what you are! Up above the world so high, Like a diamond in the sky. Twinkle, twinkle, little star, How I wonder what you are\" Output :\n",
    "\n",
    "# Twinkle, twinkle, little star,\n",
    "# \tHow I wonder what you are! \n",
    "# \t\tUp above the world so high,   \t\t\n",
    "# \t\tLike a diamond in the sky. \n",
    "# Twinkle, twinkle, little star, \n",
    "# \tHow I wonder what you are"
   ]
  },
  {
   "cell_type": "code",
   "execution_count": 6,
   "id": "06360a75",
   "metadata": {},
   "outputs": [
    {
     "name": "stdout",
     "output_type": "stream",
     "text": [
      "Twinkle, twinckle, little star, \n",
      "\tHow I winder what you are! \n",
      "\t\tUp above the world so high, \n",
      "\tLike a dimond in the sky, \n",
      "\t\tTwinkle, twinkle, little star, \n",
      "\tHow I wonder whyat you are \n"
     ]
    }
   ],
   "source": [
    "print(\"Twinkle, twinckle, little star, \\n\\tHow I winder what you are! \\n\\t\\tUp above the world so high, \\n\\tLike a dimond in the sky, \\n\\t\\tTwinkle, twinkle, little star, \\n\\tHow I wonder whyat you are \")"
   ]
  },
  {
   "cell_type": "code",
   "execution_count": null,
   "id": "e3622417",
   "metadata": {},
   "outputs": [],
   "source": []
  }
 ],
 "metadata": {
  "kernelspec": {
   "display_name": "Python 3 (ipykernel)",
   "language": "python",
   "name": "python3"
  },
  "language_info": {
   "codemirror_mode": {
    "name": "ipython",
    "version": 3
   },
   "file_extension": ".py",
   "mimetype": "text/x-python",
   "name": "python",
   "nbconvert_exporter": "python",
   "pygments_lexer": "ipython3",
   "version": "3.9.6"
  }
 },
 "nbformat": 4,
 "nbformat_minor": 5
}
