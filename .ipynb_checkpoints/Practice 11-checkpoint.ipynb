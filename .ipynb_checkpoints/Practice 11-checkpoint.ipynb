{
 "cells": [
  {
   "cell_type": "code",
   "execution_count": null,
   "id": "d754c704",
   "metadata": {},
   "outputs": [],
   "source": [
    "from datetime import date\n",
    "f_date = date(2022, 1, 1)\n",
    "l_date = date(2022, 1, 25)\n",
    "delta = l_date - f_date\n",
    "print(delta.days)\n"
   ]
  }
 ],
 "metadata": {
  "kernelspec": {
   "display_name": "Python 3 (ipykernel)",
   "language": "python",
   "name": "python3"
  },
  "language_info": {
   "codemirror_mode": {
    "name": "ipython",
    "version": 3
   },
   "file_extension": ".py",
   "mimetype": "text/x-python",
   "name": "python",
   "nbconvert_exporter": "python",
   "pygments_lexer": "ipython3",
   "version": "3.9.6"
  }
 },
 "nbformat": 4,
 "nbformat_minor": 5
}
