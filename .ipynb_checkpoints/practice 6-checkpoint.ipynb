{
 "cells": [
  {
   "cell_type": "code",
   "execution_count": null,
   "id": "43530328",
   "metadata": {},
   "outputs": [],
   "source": [
    "# Write a Python program to accept a filename from the user and print the extension of that. Go to the editor\n",
    "# Sample filename : abc.java"
   ]
  },
  {
   "cell_type": "code",
   "execution_count": null,
   "id": "7b24eb80",
   "metadata": {},
   "outputs": [],
   "source": [
    "file_name=input()\n",
    "a=file_name.split(\".\")\n",
    "print(a[-1])"
   ]
  }
 ],
 "metadata": {
  "kernelspec": {
   "display_name": "Python 3 (ipykernel)",
   "language": "python",
   "name": "python3"
  },
  "language_info": {
   "codemirror_mode": {
    "name": "ipython",
    "version": 3
   },
   "file_extension": ".py",
   "mimetype": "text/x-python",
   "name": "python",
   "nbconvert_exporter": "python",
   "pygments_lexer": "ipython3",
   "version": "3.9.6"
  }
 },
 "nbformat": 4,
 "nbformat_minor": 5
}
